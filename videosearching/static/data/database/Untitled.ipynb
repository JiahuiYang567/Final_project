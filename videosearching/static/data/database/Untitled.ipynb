{
 "cells": [
  {
   "cell_type": "code",
   "execution_count": 1,
   "metadata": {
    "collapsed": true
   },
   "outputs": [],
   "source": [
    "import subprocess\n",
    "import glob"
   ]
  },
  {
   "cell_type": "code",
   "execution_count": 20,
   "metadata": {
    "collapsed": true
   },
   "outputs": [],
   "source": [
    "def video(query_path, query_name):\n",
    "    subprocess.call(\"ffmpeg -pattern_type glob -y -r 30 -f image2 -i '\" + query_path + \"/*.jpg' -i \" + query_path + \"/\" + query_name + \".wav\" + \" -c:v libx264 -c:a aac -b:a 192k \" + query_path + \"/\" + query_name + \".mp4\", shell = True)\n",
    "    print('exe')"
   ]
  },
  {
   "cell_type": "code",
   "execution_count": 21,
   "metadata": {
    "collapsed": true
   },
   "outputs": [],
   "source": [
    "data_path = glob.glob('/Users/xingwenzhang/work/courses/576/project/videosearch/data/database/*')"
   ]
  },
  {
   "cell_type": "code",
   "execution_count": 22,
   "metadata": {},
   "outputs": [
    {
     "data": {
      "text/plain": [
       "['/Users/xingwenzhang/work/courses/576/project/videosearch/data/database/flowers',\n",
       " '/Users/xingwenzhang/work/courses/576/project/videosearch/data/database/interview',\n",
       " '/Users/xingwenzhang/work/courses/576/project/videosearch/data/database/movie',\n",
       " '/Users/xingwenzhang/work/courses/576/project/videosearch/data/database/musicvideo',\n",
       " '/Users/xingwenzhang/work/courses/576/project/videosearch/data/database/sports',\n",
       " '/Users/xingwenzhang/work/courses/576/project/videosearch/data/database/starcraft',\n",
       " '/Users/xingwenzhang/work/courses/576/project/videosearch/data/database/traffic',\n",
       " '/Users/xingwenzhang/work/courses/576/project/videosearch/data/database/Untitled.ipynb']"
      ]
     },
     "execution_count": 22,
     "metadata": {},
     "output_type": "execute_result"
    }
   ],
   "source": [
    "data_path"
   ]
  },
  {
   "cell_type": "code",
   "execution_count": 23,
   "metadata": {},
   "outputs": [
    {
     "name": "stdout",
     "output_type": "stream",
     "text": [
      "flowers\n",
      "exe\n",
      "interview\n",
      "exe\n",
      "movie\n",
      "exe\n",
      "musicvideo\n",
      "exe\n",
      "sports\n",
      "exe\n",
      "starcraft\n",
      "exe\n",
      "traffic\n",
      "exe\n"
     ]
    }
   ],
   "source": [
    "for path in data_path:\n",
    "    if '.ipynb' in path:\n",
    "        continue\n",
    "    query_name = path.split('/')[-1]\n",
    "    print(query_name)\n",
    "    video(path, query_name)"
   ]
  },
  {
   "cell_type": "code",
   "execution_count": null,
   "metadata": {
    "collapsed": true
   },
   "outputs": [],
   "source": []
  }
 ],
 "metadata": {
  "kernelspec": {
   "display_name": "Python 3",
   "language": "python",
   "name": "python3"
  },
  "language_info": {
   "codemirror_mode": {
    "name": "ipython",
    "version": 3
   },
   "file_extension": ".py",
   "mimetype": "text/x-python",
   "name": "python",
   "nbconvert_exporter": "python",
   "pygments_lexer": "ipython3",
   "version": "3.6.1"
  }
 },
 "nbformat": 4,
 "nbformat_minor": 2
}
